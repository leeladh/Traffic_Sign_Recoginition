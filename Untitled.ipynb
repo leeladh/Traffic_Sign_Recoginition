{
 "cells": [
  {
   "cell_type": "code",
   "execution_count": 1,
   "id": "29c68f1c-4cc6-4f2c-9e43-2dec941ca9e7",
   "metadata": {},
   "outputs": [],
   "source": [
    "import pandas as pd\n",
    "import numpy as np\n",
    "from PIL import Image\n",
    "import matplotlib.pyplot as plt\n",
    "import os\n",
    "from sklearn.model_selection import train_test_split\n",
    "from tensorflow.keras.utils import to_categorical\n",
    "from keras.models import Sequential\n",
    "from keras.layers import Conv2D, MaxPool2D, Dense, Flatten, Dropout"
   ]
  },
  {
   "cell_type": "code",
   "execution_count": 2,
   "id": "db2bfb01-623f-4b44-97ec-dce06a6cfbfb",
   "metadata": {},
   "outputs": [
    {
     "name": "stdout",
     "output_type": "stream",
     "text": [
      "error image loading\n"
     ]
    }
   ],
   "source": [
    "data = []\n",
    "labels = []\n",
    "classes = 43\n",
    "\n",
    "for i in range(classes):\n",
    "    path = os.path.join('/home/leeladhar/Documents/Traffic Signs Recognition/Train',str(i))\n",
    "    images = os.listdir(path)\n",
    "    \n",
    "    for a in images:\n",
    "        try:\n",
    "            image = Image.open(path +'//' + a)\n",
    "            image = image.resize((30,30))\n",
    "            image = np.array(image)\n",
    "            data.append(image)\n",
    "            labels.append(i)\n",
    "        except:\n",
    "            print('error image loading')"
   ]
  },
  {
   "cell_type": "code",
   "execution_count": 4,
   "id": "5edeb954-f202-48f2-abac-d4d7395b1c20",
   "metadata": {},
   "outputs": [],
   "source": [
    "data = np.array(data)\n",
    "labels = np.array(labels)"
   ]
  },
  {
   "cell_type": "code",
   "execution_count": 5,
   "id": "23bf0624-a0f3-4837-be52-6539c072562d",
   "metadata": {},
   "outputs": [
    {
     "name": "stdout",
     "output_type": "stream",
     "text": [
      "(39209, 30, 30, 3) (39209,)\n"
     ]
    }
   ],
   "source": [
    "print(data.shape, labels.shape)"
   ]
  },
  {
   "cell_type": "code",
   "execution_count": 6,
   "id": "f8ae5dd5-f29f-4efa-81ab-8b39fa304846",
   "metadata": {},
   "outputs": [],
   "source": [
    "x_train, x_test, y_train, y_test = train_test_split(data, labels, test_size=0.2)"
   ]
  },
  {
   "cell_type": "code",
   "execution_count": 7,
   "id": "325847f7-66c2-4b50-af79-c7b8039235a0",
   "metadata": {},
   "outputs": [
    {
     "name": "stdout",
     "output_type": "stream",
     "text": [
      "(31367, 30, 30, 3) (31367,) (7842, 30, 30, 3) (7842,)\n"
     ]
    }
   ],
   "source": [
    "print(x_train.shape, y_train.shape, x_test.shape, y_test.shape)"
   ]
  },
  {
   "cell_type": "code",
   "execution_count": 8,
   "id": "2c7b721b-bf09-4ccc-b265-99b2ca0b42ac",
   "metadata": {},
   "outputs": [],
   "source": [
    "y_train = to_categorical(y_train)\n",
    "y_test = to_categorical(y_test)"
   ]
  },
  {
   "cell_type": "code",
   "execution_count": 9,
   "id": "b0abfb5a-bc2e-4696-9c54-692e1adbf84e",
   "metadata": {},
   "outputs": [],
   "source": [
    "model = Sequential()\n",
    "model.add(Conv2D(filters=32, kernel_size=(5,5), activation='relu', input_shape=(30,30,3)))\n",
    "model.add(Conv2D(filters=32, kernel_size=(5,5), activation='relu'))\n",
    "model.add(MaxPool2D(pool_size=(2,2)))\n",
    "model.add(Dropout(rate=0.25))\n",
    "model.add(Conv2D(filters=64, kernel_size=(3, 3), activation='relu'))\n",
    "model.add(Conv2D(filters=64, kernel_size=(3, 3), activation='relu'))\n",
    "model.add(MaxPool2D(pool_size=(2,2)))\n",
    "model.add(Dropout(rate=0.25))\n",
    "model.add(Flatten())\n",
    "model.add(Dense(256, activation='relu'))\n",
    "model.add(Dropout(rate=0.5))\n",
    "model.add(Dense(43, activation='softmax'))"
   ]
  },
  {
   "cell_type": "code",
   "execution_count": 10,
   "id": "80bbf8a4-6f8b-486b-a67e-2cd781315bbe",
   "metadata": {},
   "outputs": [],
   "source": [
    "model.compile(loss='categorical_crossentropy', optimizer='adam', metrics=['accuracy'])"
   ]
  },
  {
   "cell_type": "code",
   "execution_count": 11,
   "id": "66a1a7f4-8289-43f3-ad77-f904e30178b3",
   "metadata": {},
   "outputs": [
    {
     "name": "stdout",
     "output_type": "stream",
     "text": [
      "Model: \"sequential\"\n",
      "_________________________________________________________________\n",
      "Layer (type)                 Output Shape              Param #   \n",
      "=================================================================\n",
      "conv2d (Conv2D)              (None, 26, 26, 32)        2432      \n",
      "_________________________________________________________________\n",
      "conv2d_1 (Conv2D)            (None, 22, 22, 32)        25632     \n",
      "_________________________________________________________________\n",
      "max_pooling2d (MaxPooling2D) (None, 11, 11, 32)        0         \n",
      "_________________________________________________________________\n",
      "dropout (Dropout)            (None, 11, 11, 32)        0         \n",
      "_________________________________________________________________\n",
      "conv2d_2 (Conv2D)            (None, 9, 9, 64)          18496     \n",
      "_________________________________________________________________\n",
      "conv2d_3 (Conv2D)            (None, 7, 7, 64)          36928     \n",
      "_________________________________________________________________\n",
      "max_pooling2d_1 (MaxPooling2 (None, 3, 3, 64)          0         \n",
      "_________________________________________________________________\n",
      "dropout_1 (Dropout)          (None, 3, 3, 64)          0         \n",
      "_________________________________________________________________\n",
      "flatten (Flatten)            (None, 576)               0         \n",
      "_________________________________________________________________\n",
      "dense (Dense)                (None, 256)               147712    \n",
      "_________________________________________________________________\n",
      "dropout_2 (Dropout)          (None, 256)               0         \n",
      "_________________________________________________________________\n",
      "dense_1 (Dense)              (None, 43)                11051     \n",
      "=================================================================\n",
      "Total params: 242,251\n",
      "Trainable params: 242,251\n",
      "Non-trainable params: 0\n",
      "_________________________________________________________________\n"
     ]
    }
   ],
   "source": [
    "model.summary()"
   ]
  },
  {
   "cell_type": "code",
   "execution_count": 12,
   "id": "24b747c0-c87e-4132-b0b6-77e8cc360b78",
   "metadata": {},
   "outputs": [
    {
     "name": "stdout",
     "output_type": "stream",
     "text": [
      "Epoch 1/15\n",
      "491/491 [==============================] - 69s 116ms/step - loss: 3.5136 - accuracy: 0.2412 - val_loss: 0.6199 - val_accuracy: 0.8652\n",
      "Epoch 2/15\n",
      "491/491 [==============================] - 47s 96ms/step - loss: 0.8522 - accuracy: 0.7545 - val_loss: 0.2117 - val_accuracy: 0.9541\n",
      "Epoch 3/15\n",
      "491/491 [==============================] - 53s 109ms/step - loss: 0.4319 - accuracy: 0.8745 - val_loss: 0.1165 - val_accuracy: 0.9670\n",
      "Epoch 4/15\n",
      "491/491 [==============================] - 55s 112ms/step - loss: 0.2940 - accuracy: 0.9134 - val_loss: 0.0862 - val_accuracy: 0.9796\n",
      "Epoch 5/15\n",
      "491/491 [==============================] - 45s 91ms/step - loss: 0.2592 - accuracy: 0.9297 - val_loss: 0.0590 - val_accuracy: 0.9858\n",
      "Epoch 6/15\n",
      "491/491 [==============================] - 47s 95ms/step - loss: 0.2134 - accuracy: 0.9404 - val_loss: 0.0458 - val_accuracy: 0.9879\n",
      "Epoch 7/15\n",
      "491/491 [==============================] - 49s 99ms/step - loss: 0.2334 - accuracy: 0.9350 - val_loss: 0.0474 - val_accuracy: 0.9881\n",
      "Epoch 8/15\n",
      "491/491 [==============================] - 48s 99ms/step - loss: 0.1745 - accuracy: 0.9510 - val_loss: 0.0592 - val_accuracy: 0.9846\n",
      "Epoch 9/15\n",
      "491/491 [==============================] - 47s 96ms/step - loss: 0.2026 - accuracy: 0.9446 - val_loss: 0.0451 - val_accuracy: 0.9874\n",
      "Epoch 10/15\n",
      "491/491 [==============================] - 49s 100ms/step - loss: 0.1527 - accuracy: 0.9601 - val_loss: 0.0401 - val_accuracy: 0.9898\n",
      "Epoch 11/15\n",
      "491/491 [==============================] - 51s 104ms/step - loss: 0.1422 - accuracy: 0.9620 - val_loss: 0.0437 - val_accuracy: 0.9889\n",
      "Epoch 12/15\n",
      "491/491 [==============================] - 48s 98ms/step - loss: 0.1479 - accuracy: 0.9601 - val_loss: 0.0348 - val_accuracy: 0.9907\n",
      "Epoch 13/15\n",
      "491/491 [==============================] - 46s 93ms/step - loss: 0.1397 - accuracy: 0.9625 - val_loss: 0.0513 - val_accuracy: 0.9858\n",
      "Epoch 14/15\n",
      "491/491 [==============================] - 51s 103ms/step - loss: 0.1512 - accuracy: 0.9623 - val_loss: 0.0302 - val_accuracy: 0.9921\n",
      "Epoch 15/15\n",
      "491/491 [==============================] - 47s 96ms/step - loss: 0.1174 - accuracy: 0.9703 - val_loss: 0.0338 - val_accuracy: 0.9898\n"
     ]
    }
   ],
   "source": [
    "epochs = 15\n",
    "history = model.fit(x_train, y_train, batch_size=64, epochs=epochs, validation_data=(x_test, y_test))"
   ]
  },
  {
   "cell_type": "code",
   "execution_count": 13,
   "id": "8dcf8af4-702c-4068-991c-5a0b0b8ab09b",
   "metadata": {},
   "outputs": [
    {
     "data": {
      "text/plain": [
       "<matplotlib.legend.Legend at 0x7fb9c3d4eeb0>"
      ]
     },
     "execution_count": 13,
     "metadata": {},
     "output_type": "execute_result"
    },
    {
     "data": {
      "image/png": "[encoded data removed]",
      "text/plain": [
       "<Figure size 432x288 with 1 Axes>"
      ]
     },
     "metadata": {
      "needs_background": "light"
     },
     "output_type": "display_data"
    }
   ],
   "source": [
    "plt.figure(0)\n",
    "plt.plot(history.history['accuracy'], label='training accuracy')\n",
    "plt.plot(history.history['val_accuracy'], label='val accuracy')\n",
    "plt.title('Accuracy')\n",
    "plt.xlabel('epochs')\n",
    "plt.ylabel('accuracy')\n",
    "plt.legend()"
   ]
  },
  {
   "cell_type": "code",
   "execution_count": 14,
   "id": "5e876652-be31-46f2-8da5-b4d015225dec",
   "metadata": {},
   "outputs": [
    {
     "data": {
      "text/plain": [
       "<matplotlib.legend.Legend at 0x7fb9b4033610>"
      ]
     },
     "execution_count": 14,
     "metadata": {},
     "output_type": "execute_result"
    },
    {
     "data": {
      "image/png": "[encoded data removed]",
      "text/plain": [
       "<Figure size 432x288 with 1 Axes>"
      ]
     },
     "metadata": {
      "needs_background": "light"
     },
     "output_type": "display_data"
    }
   ],
   "source": [
    "plt.figure(1)\n",
    "plt.plot(history.history['loss'], label='train_loss')\n",
    "plt.plot(history.history['val_loss'], label='val loss')\n",
    "plt.title('Loss')\n",
    "plt.xlabel('epochs')\n",
    "plt.ylabel('loss')\n",
    "plt.legend()"
   ]
  },
  {
   "cell_type": "code",
   "execution_count": 15,
   "id": "6cdb544d-72e7-4614-a8cf-e5dcfd987789",
   "metadata": {},
   "outputs": [],
   "source": [
    "model.save('model.h5')"
   ]
  },
  {
   "cell_type": "code",
   "execution_count": 16,
   "id": "a55d32ed-a2c7-40e9-813f-61465b3b6deb",
   "metadata": {},
   "outputs": [],
   "source": [
    "traf = model.to_json()"
   ]
  },
  {
   "cell_type": "code",
   "execution_count": 17,
   "id": "b7905a2a-d98e-46ef-81e0-66186266dd76",
   "metadata": {},
   "outputs": [],
   "source": [
    "with open('model_json.json','w') as f:\n",
    "    f.write(traf)"
   ]
  },
  {
   "cell_type": "code",
   "execution_count": 22,
   "id": "94c07a71-b1eb-4a53-87d5-509c131c2064",
   "metadata": {},
   "outputs": [],
   "source": [
    "def traffic_infr(image):\n",
    "    image = Image.open(image)\n",
    "    image = image.resize((30,30))\n",
    "    image = np.array(image)\n",
    "    image = image[np.newaxis,:]\n",
    "    return np.argmax(model.predict(image))"
   ]
  },
  {
   "cell_type": "code",
   "execution_count": 23,
   "id": "09082f08-a818-4aaa-9544-250b3963953c",
   "metadata": {},
   "outputs": [
    {
     "data": {
      "text/plain": [
       "1"
      ]
     },
     "execution_count": 23,
     "metadata": {},
     "output_type": "execute_result"
    }
   ],
   "source": [
    "traffic_infr('/home/leeladhar/Documents/Traffic Signs Recognition/Test/00001.png')"
   ]
  },
  {
   "cell_type": "code",
   "execution_count": null,
   "id": "5b503f68-e459-4c81-8429-d2c42f78d32d",
   "metadata": {},
   "outputs": [],
   "source": []
  }
 ],
 "metadata": {
  "kernelspec": {
   "display_name": "Python 3",
   "language": "python",
   "name": "python3"
  },
  "language_info": {
   "codemirror_mode": {
    "name": "ipython",
    "version": 3
   },
   "file_extension": ".py",
   "mimetype": "text/x-python",
   "name": "python",
   "nbconvert_exporter": "python",
   "pygments_lexer": "ipython3",
   "version": "3.8.10"
  }
 },
 "nbformat": 4,
 "nbformat_minor": 5
}
